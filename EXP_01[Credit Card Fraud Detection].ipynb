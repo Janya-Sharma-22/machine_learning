{
  "nbformat": 4,
  "nbformat_minor": 0,
  "metadata": {
    "colab": {
      "provenance": [],
      "authorship_tag": "ABX9TyOiyQ0rd6s7maWqSZ3Y2bLb",
      "include_colab_link": true
    },
    "kernelspec": {
      "name": "python3",
      "display_name": "Python 3"
    },
    "language_info": {
      "name": "python"
    }
  },
  "cells": [
    {
      "cell_type": "markdown",
      "metadata": {
        "id": "view-in-github",
        "colab_type": "text"
      },
      "source": [
        "<a href=\"https://colab.research.google.com/github/Janya-Sharma-22/machine_learning/blob/main/EXP_01.ipynb\" target=\"_parent\"><img src=\"https://colab.research.google.com/assets/colab-badge.svg\" alt=\"Open In Colab\"/></a>"
      ]
    },
    {
      "cell_type": "code",
      "execution_count": null,
      "metadata": {
        "colab": {
          "base_uri": "https://localhost:8080/",
          "height": 73
        },
        "id": "5jHcqcsmU0ec",
        "outputId": "cd2da8bf-2e8e-4b8b-9ebb-3dac21203f77"
      },
      "outputs": [
        {
          "output_type": "display_data",
          "data": {
            "text/plain": [
              "<IPython.core.display.HTML object>"
            ],
            "text/html": [
              "\n",
              "     <input type=\"file\" id=\"files-aa383c1a-f664-48d8-a998-2e56cfd3f168\" name=\"files[]\" multiple disabled\n",
              "        style=\"border:none\" />\n",
              "     <output id=\"result-aa383c1a-f664-48d8-a998-2e56cfd3f168\">\n",
              "      Upload widget is only available when the cell has been executed in the\n",
              "      current browser session. Please rerun this cell to enable.\n",
              "      </output>\n",
              "      <script>// Copyright 2017 Google LLC\n",
              "//\n",
              "// Licensed under the Apache License, Version 2.0 (the \"License\");\n",
              "// you may not use this file except in compliance with the License.\n",
              "// You may obtain a copy of the License at\n",
              "//\n",
              "//      http://www.apache.org/licenses/LICENSE-2.0\n",
              "//\n",
              "// Unless required by applicable law or agreed to in writing, software\n",
              "// distributed under the License is distributed on an \"AS IS\" BASIS,\n",
              "// WITHOUT WARRANTIES OR CONDITIONS OF ANY KIND, either express or implied.\n",
              "// See the License for the specific language governing permissions and\n",
              "// limitations under the License.\n",
              "\n",
              "/**\n",
              " * @fileoverview Helpers for google.colab Python module.\n",
              " */\n",
              "(function(scope) {\n",
              "function span(text, styleAttributes = {}) {\n",
              "  const element = document.createElement('span');\n",
              "  element.textContent = text;\n",
              "  for (const key of Object.keys(styleAttributes)) {\n",
              "    element.style[key] = styleAttributes[key];\n",
              "  }\n",
              "  return element;\n",
              "}\n",
              "\n",
              "// Max number of bytes which will be uploaded at a time.\n",
              "const MAX_PAYLOAD_SIZE = 100 * 1024;\n",
              "\n",
              "function _uploadFiles(inputId, outputId) {\n",
              "  const steps = uploadFilesStep(inputId, outputId);\n",
              "  const outputElement = document.getElementById(outputId);\n",
              "  // Cache steps on the outputElement to make it available for the next call\n",
              "  // to uploadFilesContinue from Python.\n",
              "  outputElement.steps = steps;\n",
              "\n",
              "  return _uploadFilesContinue(outputId);\n",
              "}\n",
              "\n",
              "// This is roughly an async generator (not supported in the browser yet),\n",
              "// where there are multiple asynchronous steps and the Python side is going\n",
              "// to poll for completion of each step.\n",
              "// This uses a Promise to block the python side on completion of each step,\n",
              "// then passes the result of the previous step as the input to the next step.\n",
              "function _uploadFilesContinue(outputId) {\n",
              "  const outputElement = document.getElementById(outputId);\n",
              "  const steps = outputElement.steps;\n",
              "\n",
              "  const next = steps.next(outputElement.lastPromiseValue);\n",
              "  return Promise.resolve(next.value.promise).then((value) => {\n",
              "    // Cache the last promise value to make it available to the next\n",
              "    // step of the generator.\n",
              "    outputElement.lastPromiseValue = value;\n",
              "    return next.value.response;\n",
              "  });\n",
              "}\n",
              "\n",
              "/**\n",
              " * Generator function which is called between each async step of the upload\n",
              " * process.\n",
              " * @param {string} inputId Element ID of the input file picker element.\n",
              " * @param {string} outputId Element ID of the output display.\n",
              " * @return {!Iterable<!Object>} Iterable of next steps.\n",
              " */\n",
              "function* uploadFilesStep(inputId, outputId) {\n",
              "  const inputElement = document.getElementById(inputId);\n",
              "  inputElement.disabled = false;\n",
              "\n",
              "  const outputElement = document.getElementById(outputId);\n",
              "  outputElement.innerHTML = '';\n",
              "\n",
              "  const pickedPromise = new Promise((resolve) => {\n",
              "    inputElement.addEventListener('change', (e) => {\n",
              "      resolve(e.target.files);\n",
              "    });\n",
              "  });\n",
              "\n",
              "  const cancel = document.createElement('button');\n",
              "  inputElement.parentElement.appendChild(cancel);\n",
              "  cancel.textContent = 'Cancel upload';\n",
              "  const cancelPromise = new Promise((resolve) => {\n",
              "    cancel.onclick = () => {\n",
              "      resolve(null);\n",
              "    };\n",
              "  });\n",
              "\n",
              "  // Wait for the user to pick the files.\n",
              "  const files = yield {\n",
              "    promise: Promise.race([pickedPromise, cancelPromise]),\n",
              "    response: {\n",
              "      action: 'starting',\n",
              "    }\n",
              "  };\n",
              "\n",
              "  cancel.remove();\n",
              "\n",
              "  // Disable the input element since further picks are not allowed.\n",
              "  inputElement.disabled = true;\n",
              "\n",
              "  if (!files) {\n",
              "    return {\n",
              "      response: {\n",
              "        action: 'complete',\n",
              "      }\n",
              "    };\n",
              "  }\n",
              "\n",
              "  for (const file of files) {\n",
              "    const li = document.createElement('li');\n",
              "    li.append(span(file.name, {fontWeight: 'bold'}));\n",
              "    li.append(span(\n",
              "        `(${file.type || 'n/a'}) - ${file.size} bytes, ` +\n",
              "        `last modified: ${\n",
              "            file.lastModifiedDate ? file.lastModifiedDate.toLocaleDateString() :\n",
              "                                    'n/a'} - `));\n",
              "    const percent = span('0% done');\n",
              "    li.appendChild(percent);\n",
              "\n",
              "    outputElement.appendChild(li);\n",
              "\n",
              "    const fileDataPromise = new Promise((resolve) => {\n",
              "      const reader = new FileReader();\n",
              "      reader.onload = (e) => {\n",
              "        resolve(e.target.result);\n",
              "      };\n",
              "      reader.readAsArrayBuffer(file);\n",
              "    });\n",
              "    // Wait for the data to be ready.\n",
              "    let fileData = yield {\n",
              "      promise: fileDataPromise,\n",
              "      response: {\n",
              "        action: 'continue',\n",
              "      }\n",
              "    };\n",
              "\n",
              "    // Use a chunked sending to avoid message size limits. See b/62115660.\n",
              "    let position = 0;\n",
              "    do {\n",
              "      const length = Math.min(fileData.byteLength - position, MAX_PAYLOAD_SIZE);\n",
              "      const chunk = new Uint8Array(fileData, position, length);\n",
              "      position += length;\n",
              "\n",
              "      const base64 = btoa(String.fromCharCode.apply(null, chunk));\n",
              "      yield {\n",
              "        response: {\n",
              "          action: 'append',\n",
              "          file: file.name,\n",
              "          data: base64,\n",
              "        },\n",
              "      };\n",
              "\n",
              "      let percentDone = fileData.byteLength === 0 ?\n",
              "          100 :\n",
              "          Math.round((position / fileData.byteLength) * 100);\n",
              "      percent.textContent = `${percentDone}% done`;\n",
              "\n",
              "    } while (position < fileData.byteLength);\n",
              "  }\n",
              "\n",
              "  // All done.\n",
              "  yield {\n",
              "    response: {\n",
              "      action: 'complete',\n",
              "    }\n",
              "  };\n",
              "}\n",
              "\n",
              "scope.google = scope.google || {};\n",
              "scope.google.colab = scope.google.colab || {};\n",
              "scope.google.colab._files = {\n",
              "  _uploadFiles,\n",
              "  _uploadFilesContinue,\n",
              "};\n",
              "})(self);\n",
              "</script> "
            ]
          },
          "metadata": {}
        },
        {
          "output_type": "stream",
          "name": "stdout",
          "text": [
            "Saving credit_card_fraud_100.csv to credit_card_fraud_100.csv\n"
          ]
        }
      ],
      "source": [
        "from google.colab import files\n",
        "uploaded = files.upload()"
      ]
    },
    {
      "cell_type": "code",
      "source": [
        "import pandas as pd\n",
        "import numpy as np\n",
        "from sklearn.model_selection import train_test_split, cross_val_score\n",
        "from sklearn.linear_model import LogisticRegression\n",
        "from sklearn.metrics import classification_report, confusion_matrix, roc_auc_score\n",
        "from sklearn.preprocessing import StandardScaler\n",
        "from imblearn.over_sampling import SMOTE\n",
        "import matplotlib.pyplot as plt\n",
        "import seaborn as sns"
      ],
      "metadata": {
        "id": "jP_cyqPdVhqh"
      },
      "execution_count": null,
      "outputs": []
    },
    {
      "cell_type": "code",
      "source": [
        "dataset_path = list(uploaded.keys())[0]\n",
        "df = pd.read_csv(dataset_path)"
      ],
      "metadata": {
        "id": "hmrOIru3XvnI"
      },
      "execution_count": null,
      "outputs": []
    },
    {
      "cell_type": "code",
      "source": [
        "df.columns = df.columns.str.strip()\n",
        "print(df)"
      ],
      "metadata": {
        "colab": {
          "base_uri": "https://localhost:8080/"
        },
        "id": "o0alPxQlX8cu",
        "outputId": "5410798e-38b7-4a0b-925d-4ac8b5f0a87a"
      },
      "execution_count": null,
      "outputs": [
        {
          "output_type": "stream",
          "name": "stdout",
          "text": [
            "     Time        V1        V2        V3        V4        V5        V6  \\\n",
            "0   15795 -1.875677 -1.027711 -0.368450  1.326504 -0.263242  0.881930   \n",
            "1     860 -1.366782  0.741241  0.157202 -0.954390  0.534809 -1.684872   \n",
            "2   76820  0.636305 -1.710530 -0.115473 -2.339597  1.905907 -0.747970   \n",
            "3   54886 -0.906721  0.118978  0.831709 -0.351537  0.227602 -2.138800   \n",
            "4    6265  0.476043  1.000486 -0.319355 -1.019341 -0.194670  1.997008   \n",
            "..    ...       ...       ...       ...       ...       ...       ...   \n",
            "95  38044  0.065649 -0.433942  0.237485  2.052453  0.265955  0.246104   \n",
            "96  51214  1.169208 -0.732692 -0.317369  0.251195 -0.213473  1.051783   \n",
            "97  61228  0.873317 -0.578277  0.458441 -0.453797  0.138508 -0.247368   \n",
            "98  48984  0.205650 -0.135717  0.186212 -2.029231  0.764252 -0.065477   \n",
            "99  40774 -1.443483 -0.793505  0.826190  1.961303  0.010798  0.807417   \n",
            "\n",
            "          V7        V8        V9       V10       Amount  Class  \n",
            "0   0.840527 -0.068981  0.454563  0.088952  1571.912046      0  \n",
            "1  -0.038492 -2.578215  0.744038  1.165914  1838.375747      0  \n",
            "2  -0.443480 -0.561367 -1.591314 -0.542605  1919.309720      1  \n",
            "3   0.082656  0.314204  0.636631  0.877102  1262.112205      0  \n",
            "4  -0.190911 -0.424216 -0.245070  0.463724  1358.251308      0  \n",
            "..       ...       ...       ...       ...          ...    ...  \n",
            "95  0.539572 -0.200792  1.382904 -1.411961   470.872709      0  \n",
            "96  1.346746  0.286974  1.136605  0.482272  1827.073687      0  \n",
            "97  0.126793 -2.085218 -0.456967 -0.419900   390.409612      0  \n",
            "98 -0.759639 -1.861349 -0.112992  1.131253   586.403233      1  \n",
            "99 -0.003351 -0.299739 -1.224935 -0.274747  2408.367082      0  \n",
            "\n",
            "[100 rows x 13 columns]\n"
          ]
        }
      ]
    },
    {
      "cell_type": "code",
      "source": [
        "df.fillna(df.mode().iloc[0], inplace=True)\n",
        "print(df)"
      ],
      "metadata": {
        "colab": {
          "base_uri": "https://localhost:8080/"
        },
        "id": "gYUAd3t-Yrx5",
        "outputId": "82526fbe-2b59-4c3c-bf90-31986d4f2eb7"
      },
      "execution_count": null,
      "outputs": [
        {
          "output_type": "stream",
          "name": "stdout",
          "text": [
            "     Time        V1        V2        V3        V4        V5        V6  \\\n",
            "0   15795 -1.875677 -1.027711 -0.368450  1.326504 -0.263242  0.881930   \n",
            "1     860 -1.366782  0.741241  0.157202 -0.954390  0.534809 -1.684872   \n",
            "2   76820  0.636305 -1.710530 -0.115473 -2.339597  1.905907 -0.747970   \n",
            "3   54886 -0.906721  0.118978  0.831709 -0.351537  0.227602 -2.138800   \n",
            "4    6265  0.476043  1.000486 -0.319355 -1.019341 -0.194670  1.997008   \n",
            "..    ...       ...       ...       ...       ...       ...       ...   \n",
            "95  38044  0.065649 -0.433942  0.237485  2.052453  0.265955  0.246104   \n",
            "96  51214  1.169208 -0.732692 -0.317369  0.251195 -0.213473  1.051783   \n",
            "97  61228  0.873317 -0.578277  0.458441 -0.453797  0.138508 -0.247368   \n",
            "98  48984  0.205650 -0.135717  0.186212 -2.029231  0.764252 -0.065477   \n",
            "99  40774 -1.443483 -0.793505  0.826190  1.961303  0.010798  0.807417   \n",
            "\n",
            "          V7        V8        V9       V10       Amount  Class  \n",
            "0   0.840527 -0.068981  0.454563  0.088952  1571.912046      0  \n",
            "1  -0.038492 -2.578215  0.744038  1.165914  1838.375747      0  \n",
            "2  -0.443480 -0.561367 -1.591314 -0.542605  1919.309720      1  \n",
            "3   0.082656  0.314204  0.636631  0.877102  1262.112205      0  \n",
            "4  -0.190911 -0.424216 -0.245070  0.463724  1358.251308      0  \n",
            "..       ...       ...       ...       ...          ...    ...  \n",
            "95  0.539572 -0.200792  1.382904 -1.411961   470.872709      0  \n",
            "96  1.346746  0.286974  1.136605  0.482272  1827.073687      0  \n",
            "97  0.126793 -2.085218 -0.456967 -0.419900   390.409612      0  \n",
            "98 -0.759639 -1.861349 -0.112992  1.131253   586.403233      1  \n",
            "99 -0.003351 -0.299739 -1.224935 -0.274747  2408.367082      0  \n",
            "\n",
            "[100 rows x 13 columns]\n"
          ]
        }
      ]
    },
    {
      "cell_type": "code",
      "source": [
        "df = df.drop_duplicates()\n",
        "print(df)"
      ],
      "metadata": {
        "colab": {
          "base_uri": "https://localhost:8080/"
        },
        "id": "1I78T6YxY42I",
        "outputId": "6cfe67fd-0585-43a7-9878-c3d54d21c77a"
      },
      "execution_count": null,
      "outputs": [
        {
          "output_type": "stream",
          "name": "stdout",
          "text": [
            "     Time        V1        V2        V3        V4        V5        V6  \\\n",
            "0   15795 -1.875677 -1.027711 -0.368450  1.326504 -0.263242  0.881930   \n",
            "1     860 -1.366782  0.741241  0.157202 -0.954390  0.534809 -1.684872   \n",
            "2   76820  0.636305 -1.710530 -0.115473 -2.339597  1.905907 -0.747970   \n",
            "3   54886 -0.906721  0.118978  0.831709 -0.351537  0.227602 -2.138800   \n",
            "4    6265  0.476043  1.000486 -0.319355 -1.019341 -0.194670  1.997008   \n",
            "..    ...       ...       ...       ...       ...       ...       ...   \n",
            "95  38044  0.065649 -0.433942  0.237485  2.052453  0.265955  0.246104   \n",
            "96  51214  1.169208 -0.732692 -0.317369  0.251195 -0.213473  1.051783   \n",
            "97  61228  0.873317 -0.578277  0.458441 -0.453797  0.138508 -0.247368   \n",
            "98  48984  0.205650 -0.135717  0.186212 -2.029231  0.764252 -0.065477   \n",
            "99  40774 -1.443483 -0.793505  0.826190  1.961303  0.010798  0.807417   \n",
            "\n",
            "          V7        V8        V9       V10       Amount  Class  \n",
            "0   0.840527 -0.068981  0.454563  0.088952  1571.912046      0  \n",
            "1  -0.038492 -2.578215  0.744038  1.165914  1838.375747      0  \n",
            "2  -0.443480 -0.561367 -1.591314 -0.542605  1919.309720      1  \n",
            "3   0.082656  0.314204  0.636631  0.877102  1262.112205      0  \n",
            "4  -0.190911 -0.424216 -0.245070  0.463724  1358.251308      0  \n",
            "..       ...       ...       ...       ...          ...    ...  \n",
            "95  0.539572 -0.200792  1.382904 -1.411961   470.872709      0  \n",
            "96  1.346746  0.286974  1.136605  0.482272  1827.073687      0  \n",
            "97  0.126793 -2.085218 -0.456967 -0.419900   390.409612      0  \n",
            "98 -0.759639 -1.861349 -0.112992  1.131253   586.403233      1  \n",
            "99 -0.003351 -0.299739 -1.224935 -0.274747  2408.367082      0  \n",
            "\n",
            "[100 rows x 13 columns]\n"
          ]
        }
      ]
    },
    {
      "cell_type": "code",
      "source": [
        "X = df.drop('Class', axis=1)\n",
        "y = df['Class']\n",
        "print(df)"
      ],
      "metadata": {
        "colab": {
          "base_uri": "https://localhost:8080/"
        },
        "id": "vGn4NUxbZN71",
        "outputId": "58f3a06d-21bf-44f9-dd9a-995249731a09"
      },
      "execution_count": null,
      "outputs": [
        {
          "output_type": "stream",
          "name": "stdout",
          "text": [
            "     Time        V1        V2        V3        V4        V5        V6  \\\n",
            "0   15795 -1.875677 -1.027711 -0.368450  1.326504 -0.263242  0.881930   \n",
            "1     860 -1.366782  0.741241  0.157202 -0.954390  0.534809 -1.684872   \n",
            "2   76820  0.636305 -1.710530 -0.115473 -2.339597  1.905907 -0.747970   \n",
            "3   54886 -0.906721  0.118978  0.831709 -0.351537  0.227602 -2.138800   \n",
            "4    6265  0.476043  1.000486 -0.319355 -1.019341 -0.194670  1.997008   \n",
            "..    ...       ...       ...       ...       ...       ...       ...   \n",
            "95  38044  0.065649 -0.433942  0.237485  2.052453  0.265955  0.246104   \n",
            "96  51214  1.169208 -0.732692 -0.317369  0.251195 -0.213473  1.051783   \n",
            "97  61228  0.873317 -0.578277  0.458441 -0.453797  0.138508 -0.247368   \n",
            "98  48984  0.205650 -0.135717  0.186212 -2.029231  0.764252 -0.065477   \n",
            "99  40774 -1.443483 -0.793505  0.826190  1.961303  0.010798  0.807417   \n",
            "\n",
            "          V7        V8        V9       V10       Amount  Class  \n",
            "0   0.840527 -0.068981  0.454563  0.088952  1571.912046      0  \n",
            "1  -0.038492 -2.578215  0.744038  1.165914  1838.375747      0  \n",
            "2  -0.443480 -0.561367 -1.591314 -0.542605  1919.309720      1  \n",
            "3   0.082656  0.314204  0.636631  0.877102  1262.112205      0  \n",
            "4  -0.190911 -0.424216 -0.245070  0.463724  1358.251308      0  \n",
            "..       ...       ...       ...       ...          ...    ...  \n",
            "95  0.539572 -0.200792  1.382904 -1.411961   470.872709      0  \n",
            "96  1.346746  0.286974  1.136605  0.482272  1827.073687      0  \n",
            "97  0.126793 -2.085218 -0.456967 -0.419900   390.409612      0  \n",
            "98 -0.759639 -1.861349 -0.112992  1.131253   586.403233      1  \n",
            "99 -0.003351 -0.299739 -1.224935 -0.274747  2408.367082      0  \n",
            "\n",
            "[100 rows x 13 columns]\n"
          ]
        }
      ]
    },
    {
      "cell_type": "code",
      "source": [
        "scaler = StandardScaler()\n",
        "X_scaled = scaler.fit_transform(X)\n",
        "print(df)"
      ],
      "metadata": {
        "colab": {
          "base_uri": "https://localhost:8080/"
        },
        "id": "s7QYuz3iZpBk",
        "outputId": "7779c3ec-98a7-4601-90db-f1d129be7e85"
      },
      "execution_count": null,
      "outputs": [
        {
          "output_type": "stream",
          "name": "stdout",
          "text": [
            "     Time        V1        V2        V3        V4        V5        V6  \\\n",
            "0   15795 -1.875677 -1.027711 -0.368450  1.326504 -0.263242  0.881930   \n",
            "1     860 -1.366782  0.741241  0.157202 -0.954390  0.534809 -1.684872   \n",
            "2   76820  0.636305 -1.710530 -0.115473 -2.339597  1.905907 -0.747970   \n",
            "3   54886 -0.906721  0.118978  0.831709 -0.351537  0.227602 -2.138800   \n",
            "4    6265  0.476043  1.000486 -0.319355 -1.019341 -0.194670  1.997008   \n",
            "..    ...       ...       ...       ...       ...       ...       ...   \n",
            "95  38044  0.065649 -0.433942  0.237485  2.052453  0.265955  0.246104   \n",
            "96  51214  1.169208 -0.732692 -0.317369  0.251195 -0.213473  1.051783   \n",
            "97  61228  0.873317 -0.578277  0.458441 -0.453797  0.138508 -0.247368   \n",
            "98  48984  0.205650 -0.135717  0.186212 -2.029231  0.764252 -0.065477   \n",
            "99  40774 -1.443483 -0.793505  0.826190  1.961303  0.010798  0.807417   \n",
            "\n",
            "          V7        V8        V9       V10       Amount  Class  \n",
            "0   0.840527 -0.068981  0.454563  0.088952  1571.912046      0  \n",
            "1  -0.038492 -2.578215  0.744038  1.165914  1838.375747      0  \n",
            "2  -0.443480 -0.561367 -1.591314 -0.542605  1919.309720      1  \n",
            "3   0.082656  0.314204  0.636631  0.877102  1262.112205      0  \n",
            "4  -0.190911 -0.424216 -0.245070  0.463724  1358.251308      0  \n",
            "..       ...       ...       ...       ...          ...    ...  \n",
            "95  0.539572 -0.200792  1.382904 -1.411961   470.872709      0  \n",
            "96  1.346746  0.286974  1.136605  0.482272  1827.073687      0  \n",
            "97  0.126793 -2.085218 -0.456967 -0.419900   390.409612      0  \n",
            "98 -0.759639 -1.861349 -0.112992  1.131253   586.403233      1  \n",
            "99 -0.003351 -0.299739 -1.224935 -0.274747  2408.367082      0  \n",
            "\n",
            "[100 rows x 13 columns]\n"
          ]
        }
      ]
    },
    {
      "cell_type": "code",
      "source": [
        "df['Amount'] = StandardScaler().fit_transform(df[['Amount']])\n",
        "df['Time'] = StandardScaler().fit_transform(df[['Time']])\n",
        "print(\"\\n✅ Sample after scaling:\")\n",
        "print(df[['Time', 'Amount']].head())"
      ],
      "metadata": {
        "colab": {
          "base_uri": "https://localhost:8080/"
        },
        "id": "E7lELhOBatk7",
        "outputId": "c1e95172-54cc-400b-f2af-6f6912064783"
      },
      "execution_count": null,
      "outputs": [
        {
          "output_type": "stream",
          "name": "stdout",
          "text": [
            "\n",
            "✅ Sample after scaling:\n",
            "       Time    Amount\n",
            "0 -1.279419  0.632609\n",
            "1 -1.801872  1.049374\n",
            "2  0.855343  1.175960\n",
            "3  0.088053  0.148063\n",
            "4 -1.612795  0.298431\n"
          ]
        }
      ]
    },
    {
      "cell_type": "code",
      "source": [
        "X = df.drop('Class', axis=1)\n",
        "y = df['Class']\n",
        "\n",
        "X_train, X_test, y_train, y_test = train_test_split(\n",
        "    X, y, test_size=0.3, random_state=42, stratify=y\n",
        ")\n",
        "\n",
        "print(f\"\\n🔹 Train set size: {X_train.shape}\")\n",
        "print(f\"🔹 Test set size: {X_test.shape}\")"
      ],
      "metadata": {
        "colab": {
          "base_uri": "https://localhost:8080/"
        },
        "id": "JRwCjY39bmvO",
        "outputId": "41e8a2ce-ebed-4b40-c996-14d60175f1b5"
      },
      "execution_count": null,
      "outputs": [
        {
          "output_type": "stream",
          "name": "stdout",
          "text": [
            "\n",
            "🔹 Train set size: (70, 12)\n",
            "🔹 Test set size: (30, 12)\n"
          ]
        }
      ]
    },
    {
      "cell_type": "code",
      "source": [
        "plt.figure(figsize=(6,4))\n",
        "sns.countplot(x='Class', data=df)\n",
        "plt.title(\"Class Distribution\")\n",
        "plt.show()"
      ],
      "metadata": {
        "colab": {
          "base_uri": "https://localhost:8080/",
          "height": 410
        },
        "id": "fFPyIxeeb5Ay",
        "outputId": "6864efa3-38dc-4578-d6b2-004acb2d2efd"
      },
      "execution_count": null,
      "outputs": [
        {
          "output_type": "display_data",
          "data": {
            "text/plain": [
              "<Figure size 600x400 with 1 Axes>"
            ],
            "image/png": "[encoded data removed]"
          },
          "metadata": {}
        }
      ]
    },
    {
      "cell_type": "code",
      "source": [
        "print(\"🔹 Loading dataset...\")\n",
        "df = pd.read_csv(\"credit_card_fraud_100.csv\")\n",
        "print(\"✅ First 5 rows of the dataset:\")\n",
        "print(df.head())"
      ],
      "metadata": {
        "colab": {
          "base_uri": "https://localhost:8080/"
        },
        "id": "FgqSJEQvb8Tz",
        "outputId": "1d406020-1f17-4cd4-a5d9-de04d81f5496"
      },
      "execution_count": null,
      "outputs": [
        {
          "output_type": "stream",
          "name": "stdout",
          "text": [
            "🔹 Loading dataset...\n",
            "✅ First 5 rows of the dataset:\n",
            "    Time        V1        V2        V3        V4        V5        V6  \\\n",
            "0  15795 -1.875677 -1.027711 -0.368450  1.326504 -0.263242  0.881930   \n",
            "1    860 -1.366782  0.741241  0.157202 -0.954390  0.534809 -1.684872   \n",
            "2  76820  0.636305 -1.710530 -0.115473 -2.339597  1.905907 -0.747970   \n",
            "3  54886 -0.906721  0.118978  0.831709 -0.351537  0.227602 -2.138800   \n",
            "4   6265  0.476043  1.000486 -0.319355 -1.019341 -0.194670  1.997008   \n",
            "\n",
            "         V7        V8        V9       V10       Amount  Class  \n",
            "0  0.840527 -0.068981  0.454563  0.088952  1571.912046      0  \n",
            "1 -0.038492 -2.578215  0.744038  1.165914  1838.375747      0  \n",
            "2 -0.443480 -0.561367 -1.591314 -0.542605  1919.309720      1  \n",
            "3  0.082656  0.314204  0.636631  0.877102  1262.112205      0  \n",
            "4 -0.190911 -0.424216 -0.245070  0.463724  1358.251308      0  \n"
          ]
        }
      ]
    },
    {
      "cell_type": "code",
      "source": [],
      "metadata": {
        "id": "Z5wcTkAicn5l"
      },
      "execution_count": null,
      "outputs": []
    }
  ]
}
